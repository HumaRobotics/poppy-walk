{
 "cells": [
  {
   "cell_type": "markdown",
   "metadata": {},
   "source": [
    "#    Poppy-walk\n",
    "##  Take the hands of Poppy and it will follow you anywhere!\n",
    "\n",
    "###Poppy wait for its arms to be lifted, then generates walk moves from sinusoidal signals.\n",
    "###The hips and the torso are used to shift the weight and ease the movement.\n",
    "###Lower the arms to stop the walk."
   ]
  },
  {
   "cell_type": "markdown",
   "metadata": {},
   "source": [
    "First create a PoppyHumanoid object"
   ]
  },
  {
   "cell_type": "code",
   "execution_count": 1,
   "metadata": {
    "collapsed": false
   },
   "outputs": [],
   "source": [
    "from poppy_humanoid import PoppyHumanoid\n",
    "try:\n",
    "    poppy = PoppyHumanoid()\n",
    "except Exception,e:\n",
    "    print \"could not create poppy object\"\n",
    "    print e"
   ]
  },
  {
   "cell_type": "markdown",
   "metadata": {},
   "source": [
    "Poppy-walk:"
   ]
  },
  {
   "cell_type": "code",
   "execution_count": 6,
   "metadata": {
    "collapsed": false
   },
   "outputs": [
    {
     "name": "stdout",
     "output_type": "stream",
     "text": [
      "%%% lift robot's arms to start walk %%%\n",
      "%%% starting walk %%%\n",
      "%%% put robot's arms down to stop walk %%%\n",
      "### starting double support right ###\n",
      "time  0.00019907951355\n",
      "### starting step left ###\n",
      "time  0.55399107933\n",
      "### starting double support left ###\n",
      "time  2.06229901314\n",
      "### starting step right ###\n",
      "time  2.56624507904\n",
      "### starting double support right ###\n",
      "time  4.07666802406\n",
      "### starting step left ###\n",
      "time  4.58016991615\n",
      "### starting double support left ###\n",
      "time  6.0921959877\n",
      "### starting step right ###\n",
      "time  6.5991499424\n",
      "### starting double support right ###\n",
      "time  8.10916209221\n",
      "### starting step left ###\n",
      "time  8.61228299141\n",
      "### starting double support left ###\n",
      "time  10.1213800907\n",
      "### starting step right ###\n",
      "time  10.6248221397\n",
      "### starting double support right ###\n",
      "time  12.1327459812\n",
      "### starting step left ###\n",
      "time  12.634829998\n",
      "### starting double support left ###\n",
      "time  14.1442940235\n",
      "### starting step right ###\n",
      "time  14.6469619274\n",
      "### starting double support right ###\n",
      "time  16.1547291279\n",
      "### starting step left ###\n",
      "time  16.6572079659\n",
      "### starting double support left ###\n",
      "time  18.1664941311\n",
      "### starting step right ###\n",
      "time  18.6690030098\n",
      "### starting double support right ###\n",
      "time  20.1756379604\n",
      "### starting step left ###\n",
      "time  20.6796500683\n",
      "### starting double support left ###\n",
      "time  22.1880049706\n",
      "### starting step right ###\n",
      "time  22.6925599575\n",
      "### starting double support right ###\n",
      "time  24.2009470463\n",
      "### starting step left ###\n",
      "time  24.7034230232\n",
      "asked to stop walk\n",
      "### stopping walk ###\n",
      "%%% Warning, I will remove compliance! %%%\n"
     ]
    },
    {
     "name": "stderr",
     "output_type": "stream",
     "text": [
      "WARNING:pypot.dynamixel.error:Timeout after sending DxlSyncReadDataPacket(ids=(11, 12, 13, 14, 15, 21, 22, 23, 24, 25), address=36, length=6) to motors [12, 13, 14, 15]\n",
      "WARNING:pypot.dynamixel.error:Timeout after sending DxlSyncReadDataPacket(ids=(11, 12, 13, 14, 15, 21, 22, 23, 24, 25), address=36, length=6) to motors [11, 12, 13, 14, 15, 22, 23, 24, 25]\n",
      "WARNING:pypot.dynamixel.error:Timeout after sending DxlSyncReadDataPacket(ids=(11, 12, 13, 14, 15, 21, 22, 23, 24, 25), address=36, length=6) to motors [11, 12, 13, 14, 15, 21, 22, 23, 24, 25]\n",
      "WARNING:pypot.dynamixel.error:Timeout after sending DxlSyncReadDataPacket(ids=(11, 12, 13, 14, 15, 21, 22, 23, 24, 25), address=36, length=6) to motors [11, 12, 13, 14, 15, 21, 22, 23, 24, 25]\n",
      "WARNING:pypot.dynamixel.error:Timeout after sending DxlSyncReadDataPacket(ids=(11, 12, 13, 14, 15, 21, 22, 23, 24, 25), address=36, length=6) to motors [11, 12, 13, 14, 15, 21, 22, 23, 24, 25]\n",
      "WARNING:pypot.dynamixel.error:Timeout after sending DxlSyncReadDataPacket(ids=(11, 12, 13, 14, 15, 21, 22, 23, 24, 25), address=36, length=6) to motors [11, 12, 13, 14, 15, 21, 22, 23, 24, 25]\n",
      "WARNING:pypot.dynamixel.error:Timeout after sending DxlSyncReadDataPacket(ids=(11, 12, 13, 14, 15, 21, 22, 23, 24, 25), address=36, length=6) to motors [11, 12, 13, 14, 15, 21, 22, 23, 24, 25]\n",
      "WARNING:pypot.dynamixel.error:Communication error after sending DxlSyncReadDataPacket(ids=(11, 12, 13, 14, 15, 21, 22, 23, 24, 25), address=36, length=6)\n",
      "WARNING:pypot.dynamixel.error:Communication error after sending DxlSyncReadDataPacket(ids=(11, 12, 13, 14, 15, 21, 22, 23, 24, 25), address=36, length=6)\n",
      "WARNING:pypot.dynamixel.error:Communication error after sending DxlSyncReadDataPacket(ids=(11, 12, 13, 14, 15, 21, 22, 23, 24, 25), address=36, length=6)\n",
      "WARNING:pypot.dynamixel.error:Communication error after sending DxlSyncReadDataPacket(ids=(11, 12, 13, 14, 15, 21, 22, 23, 24, 25), address=36, length=6)\n",
      "WARNING:pypot.dynamixel.error:Communication error after sending DxlSyncReadDataPacket(ids=(11, 12, 13, 14, 15, 21, 22, 23, 24, 25), address=36, length=6)\n",
      "WARNING:pypot.dynamixel.error:Timeout after sending DxlSyncReadDataPacket(ids=(11, 12, 13, 14, 15, 21, 22, 23, 24, 25), address=36, length=6) to motors [12, 13, 14, 15]\n",
      "WARNING:pypot.dynamixel.error:Timeout after sending DxlSyncReadDataPacket(ids=(11, 12, 13, 14, 15, 21, 22, 23, 24, 25), address=36, length=6) to motors [12, 13, 14, 15]\n",
      "WARNING:pypot.dynamixel.error:Timeout after sending DxlSyncReadDataPacket(ids=(11, 12, 13, 14, 15, 21, 22, 23, 24, 25), address=36, length=6) to motors [12, 13, 14, 15]\n",
      "WARNING:pypot.dynamixel.error:Timeout after sending DxlSyncReadDataPacket(ids=(11, 12, 13, 14, 15, 21, 22, 23, 24, 25), address=36, length=6) to motors [12, 13, 14, 15]\n",
      "WARNING:pypot.dynamixel.error:Timeout after sending DxlSyncReadDataPacket(ids=(11, 12, 13, 14, 15, 21, 22, 23, 24, 25), address=36, length=6) to motors [12, 13, 14, 15]\n",
      "WARNING:pypot.dynamixel.error:Timeout after sending DxlSyncReadDataPacket(ids=(11, 12, 13, 14, 15, 21, 22, 23, 24, 25), address=36, length=6) to motors [12, 13, 14, 15]\n",
      "WARNING:pypot.dynamixel.error:Timeout after sending DxlSyncReadDataPacket(ids=(11, 12, 13, 14, 15, 21, 22, 23, 24, 25), address=36, length=6) to motors [12, 13, 14, 15, 22, 23, 24, 25]\n",
      "WARNING:pypot.dynamixel.error:Timeout after sending DxlSyncReadDataPacket(ids=(11, 12, 13, 14, 15, 21, 22, 23, 24, 25), address=36, length=6) to motors [11, 12, 13, 14, 15, 21, 22, 23, 24, 25]\n",
      "WARNING:pypot.dynamixel.error:Timeout after sending DxlSyncReadDataPacket(ids=(11, 12, 13, 14, 15, 21, 22, 23, 24, 25), address=36, length=6) to motors [11, 12, 13, 14, 15]\n",
      "WARNING:pypot.dynamixel.error:Timeout after sending DxlSyncReadDataPacket(ids=(11, 12, 13, 14, 15, 21, 22, 23, 24, 25), address=36, length=6) to motors [12, 13, 14, 15]\n",
      "WARNING:pypot.dynamixel.error:Timeout after sending DxlSyncReadDataPacket(ids=(11, 12, 13, 14, 15, 21, 22, 23, 24, 25), address=36, length=6) to motors [12, 13, 14, 15]\n",
      "WARNING:pypot.dynamixel.error:Timeout after sending DxlSyncReadDataPacket(ids=(11, 12, 13, 14, 15, 21, 22, 23, 24, 25), address=36, length=6) to motors [12, 13, 14, 15]\n",
      "WARNING:pypot.dynamixel.error:Timeout after sending DxlSyncReadDataPacket(ids=(11, 12, 13, 14, 15, 21, 22, 23, 24, 25), address=36, length=6) to motors [12, 13, 14, 15]\n",
      "WARNING:pypot.dynamixel.error:Timeout after sending DxlSyncReadDataPacket(ids=(11, 12, 13, 14, 15, 21, 22, 23, 24, 25), address=36, length=6) to motors [12, 13, 14, 15]\n",
      "WARNING:pypot.dynamixel.error:Timeout after sending DxlSyncReadDataPacket(ids=(11, 12, 13, 14, 15, 21, 22, 23, 24, 25), address=36, length=6) to motors [12, 13, 14]\n",
      "WARNING:pypot.dynamixel.error:Timeout after sending DxlSyncReadDataPacket(ids=(11, 12, 13, 14, 15, 21, 22, 23, 24, 25), address=36, length=6) to motors [12, 13, 14, 15, 21, 23]\n",
      "WARNING:pypot.dynamixel.error:Timeout after sending DxlSyncReadDataPacket(ids=(11, 12, 13, 14, 15, 21, 22, 23, 24, 25), address=36, length=6) to motors [11, 12, 13, 14, 15, 21, 22, 23, 24, 25]\n",
      "WARNING:pypot.dynamixel.error:Timeout after sending DxlSyncReadDataPacket(ids=(11, 12, 13, 14, 15, 21, 22, 23, 24, 25), address=36, length=6) to motors [11, 12, 13, 14, 15, 21]\n",
      "WARNING:pypot.dynamixel.error:Timeout after sending DxlSyncReadDataPacket(ids=(11, 12, 13, 14, 15, 21, 22, 23, 24, 25), address=36, length=6) to motors [12, 13, 14, 15]\n",
      "WARNING:pypot.dynamixel.error:Timeout after sending DxlSyncReadDataPacket(ids=(11, 12, 13, 14, 15, 21, 22, 23, 24, 25), address=36, length=6) to motors [12, 13, 14, 15]\n",
      "WARNING:pypot.dynamixel.error:Timeout after sending DxlSyncReadDataPacket(ids=(11, 12, 13, 14, 15, 21, 22, 23, 24, 25), address=36, length=6) to motors [12, 13, 14, 15]\n",
      "WARNING:pypot.dynamixel.error:Timeout after sending DxlSyncReadDataPacket(ids=(11, 12, 13, 14, 15, 21, 22, 23, 24, 25), address=36, length=6) to motors [12, 13, 14, 15]\n",
      "WARNING:pypot.dynamixel.error:Timeout after sending DxlSyncReadDataPacket(ids=(11, 12, 13, 14, 15, 21, 22, 23, 24, 25), address=36, length=6) to motors [12, 13, 14, 15]\n",
      "WARNING:pypot.dynamixel.error:Timeout after sending DxlSyncReadDataPacket(ids=(11, 12, 13, 14, 15, 21, 22, 23, 24, 25), address=36, length=6) to motors [12, 13, 14, 15, 21, 22, 23, 24, 25]\n",
      "WARNING:pypot.dynamixel.error:Timeout after sending DxlSyncReadDataPacket(ids=(11, 12, 13, 14, 15, 21, 22, 23, 24, 25), address=36, length=6) to motors [11, 12, 13, 14, 15, 21, 22, 23, 24, 25]\n",
      "WARNING:pypot.dynamixel.error:Timeout after sending DxlSyncReadDataPacket(ids=(11, 12, 13, 14, 15, 21, 22, 23, 24, 25), address=36, length=6) to motors [11, 12, 13, 14, 15, 21, 22, 23, 24, 25]\n",
      "WARNING:pypot.dynamixel.error:Timeout after sending DxlSyncReadDataPacket(ids=(11, 12, 13, 14, 15, 21, 22, 23, 24, 25), address=36, length=6) to motors [11, 12, 13, 14, 15, 21, 22, 23, 24, 25]\n",
      "WARNING:pypot.dynamixel.error:Timeout after sending DxlSyncReadDataPacket(ids=(11, 12, 13, 14, 15, 21, 22, 23, 24, 25), address=36, length=6) to motors [11, 12, 13, 14, 15, 21, 22, 23, 24, 25]\n",
      "WARNING:pypot.dynamixel.error:Timeout after sending DxlSyncReadDataPacket(ids=(11, 12, 13, 14, 15, 21, 22, 23, 24, 25), address=36, length=6) to motors [11, 12, 13, 14, 15, 21, 22, 23, 24, 25]\n",
      "WARNING:pypot.dynamixel.error:Timeout after sending DxlSyncReadDataPacket(ids=(11, 12, 13, 14, 15, 21, 22, 23, 24, 25), address=36, length=6) to motors [12, 13, 14, 15]\n",
      "WARNING:pypot.dynamixel.error:Timeout after sending DxlSyncReadDataPacket(ids=(11, 12, 13, 14, 15, 21, 22, 23, 24, 25), address=36, length=6) to motors [12, 13, 14, 15]\n",
      "WARNING:pypot.dynamixel.error:Timeout after sending DxlSyncReadDataPacket(ids=(11, 12, 13, 14, 15, 21, 22, 23, 24, 25), address=36, length=6) to motors [12, 13, 14, 15]\n",
      "WARNING:pypot.dynamixel.error:Timeout after sending DxlSyncReadDataPacket(ids=(11, 12, 13, 14, 15, 21, 22, 23, 24, 25), address=36, length=6) to motors [12, 13, 14, 15]\n",
      "WARNING:pypot.dynamixel.error:Timeout after sending DxlSyncReadDataPacket(ids=(11, 12, 13, 14, 15, 21, 22, 23, 24, 25), address=36, length=6) to motors [12, 13, 14, 15]\n",
      "WARNING:pypot.dynamixel.error:Timeout after sending DxlSyncReadDataPacket(ids=(11, 12, 13, 14, 15, 21, 22, 23, 24, 25), address=36, length=6) to motors [12, 13, 14, 15]\n",
      "WARNING:pypot.dynamixel.error:Timeout after sending DxlSyncReadDataPacket(ids=(11, 12, 13, 14, 15, 21, 22, 23, 24, 25), address=36, length=6) to motors [24, 12, 13, 14, 15]\n",
      "WARNING:pypot.dynamixel.error:Timeout after sending DxlSyncReadDataPacket(ids=(11, 12, 13, 14, 15, 21, 22, 23, 24, 25), address=36, length=6) to motors [11, 12, 13, 14, 15, 21, 22, 23, 24, 25]\n",
      "WARNING:pypot.dynamixel.error:Communication error after sending DxlSyncReadDataPacket(ids=(11, 12, 13, 14, 15, 21, 22, 23, 24, 25), address=36, length=6)\n",
      "WARNING:pypot.dynamixel.error:Timeout after sending DxlSyncReadDataPacket(ids=(11, 12, 13, 14, 15, 21, 22, 23, 24, 25), address=36, length=6) to motors [12, 13, 14, 15]\n",
      "WARNING:pypot.dynamixel.error:Timeout after sending DxlSyncReadDataPacket(ids=(11, 12, 13, 14, 15, 21, 22, 23, 24, 25), address=36, length=6) to motors [12, 13, 14, 15]\n",
      "WARNING:pypot.dynamixel.error:Timeout after sending DxlSyncReadDataPacket(ids=(11, 12, 13, 14, 15, 21, 22, 23, 24, 25), address=36, length=6) to motors [12, 13, 14, 15]\n",
      "WARNING:pypot.dynamixel.error:Timeout after sending DxlSyncReadDataPacket(ids=(11, 12, 13, 14, 15, 21, 22, 23, 24, 25), address=36, length=6) to motors [12, 13, 14, 15]\n",
      "WARNING:pypot.dynamixel.error:Timeout after sending DxlSyncReadDataPacket(ids=(11, 12, 13, 14, 15, 21, 22, 23, 24, 25), address=36, length=6) to motors [12, 13, 14, 15]\n",
      "WARNING:pypot.dynamixel.error:Timeout after sending DxlSyncReadDataPacket(ids=(11, 12, 13, 14, 15, 21, 22, 23, 24, 25), address=36, length=6) to motors [12, 13, 14, 15]\n"
     ]
    }
   ],
   "source": [
    "import time\n",
    "\n",
    "#put torque in the motors\n",
    "poppy.compliant = False\n",
    "\n",
    "#put the robot in standing position\n",
    "for m in poppy.motors:\n",
    "    m.goto_position(0., 2., wait=False)\n",
    "    \n",
    "time.sleep(2)\n",
    "\n",
    "import Walker\n",
    "\n",
    "walker = Walker.Walker(poppy)\n",
    "\n",
    "if walker.init(): #wait for arms to be lifted\n",
    "    walker.startWalk()#initialize\n",
    "\n",
    "    #~ for i in range(0,6):\n",
    "    while not walker.mustStopWalk(): #have arms been lowered ?\n",
    "        walker.oneStep() #one step + one double support\n",
    "\n",
    "    walker.stopWalk() #go back to stand position\n"
   ]
  },
  {
   "cell_type": "markdown",
   "metadata": {},
   "source": [
    "Walk on all 4: uses the same architecture."
   ]
  },
  {
   "cell_type": "code",
   "execution_count": 2,
   "metadata": {
    "collapsed": false
   },
   "outputs": [
    {
     "name": "stdout",
     "output_type": "stream",
     "text": [
      "### starting double support right ###\n",
      "time  3.12758111954\n",
      "Warning, overtime!  3.13153910637  instead of  0.05\n",
      "### starting step left ###\n",
      "time  7.21022200584\n",
      "### starting double support left ###\n",
      "time  9.57072401047\n",
      "### starting step right ###\n",
      "time  9.92282915115\n",
      "### starting double support right ###\n",
      "time  10.4759709835\n",
      "### starting step left ###\n",
      "time  11.334733963\n",
      "### starting double support left ###\n",
      "time  12.8504559994\n",
      "### starting step right ###\n",
      "time  14.9223439693\n",
      "### starting double support right ###\n",
      "time  17.5825130939\n",
      "### starting step left ###\n",
      "time  19.5855760574\n",
      "### starting double support left ###\n",
      "time  19.987580061\n",
      "### starting step right ###\n",
      "time  20.0880799294\n",
      "### stopping walk ###\n",
      "%%% Warning, I will remove compliance! %%%\n",
      "### plotting ###\n"
     ]
    },
    {
     "name": "stderr",
     "output_type": "stream",
     "text": [
      "WARNING:pypot.dynamixel.error:Timeout after sending DxlSyncReadDataPacket(ids=(11, 12, 13, 14, 15, 21, 22, 23, 24, 25), address=36, length=6) to motors [12, 13, 14, 15]\n",
      "WARNING:pypot.dynamixel.error:Timeout after sending DxlSyncReadDataPacket(ids=(11, 12, 13, 14, 15, 21, 22, 23, 24, 25), address=36, length=6) to motors [12, 13, 14, 15]\n",
      "WARNING:pypot.dynamixel.error:Timeout after sending DxlSyncReadDataPacket(ids=(11, 12, 13, 14, 15, 21, 22, 23, 24, 25), address=36, length=6) to motors [12, 13, 14, 15]\n",
      "WARNING:pypot.dynamixel.error:Timeout after sending DxlSyncReadDataPacket(ids=(11, 12, 13, 14, 15, 21, 22, 23, 24, 25), address=36, length=6) to motors [12, 13, 14, 15]\n",
      "WARNING:pypot.dynamixel.error:Timeout after sending DxlSyncReadDataPacket(ids=(11, 12, 13, 14, 15, 21, 22, 23, 24, 25), address=36, length=6) to motors [12, 13, 14, 15]\n",
      "WARNING:pypot.dynamixel.error:Timeout after sending DxlSyncReadDataPacket(ids=(11, 12, 13, 14, 15, 21, 22, 23, 24, 25), address=36, length=6) to motors [12, 13, 14, 15]\n",
      "WARNING:pypot.dynamixel.error:Timeout after sending DxlSyncReadDataPacket(ids=(11, 12, 13, 14, 15, 21, 22, 23, 24, 25), address=36, length=6) to motors [12, 13, 14, 15]\n",
      "WARNING:pypot.dynamixel.error:Timeout after sending DxlSyncReadDataPacket(ids=(11, 12, 13, 14, 15, 21, 22, 23, 24, 25), address=36, length=6) to motors [12, 13, 14, 15]\n",
      "WARNING:pypot.dynamixel.error:Timeout after sending DxlSyncReadDataPacket(ids=(11, 12, 13, 14, 15, 21, 22, 23, 24, 25), address=36, length=6) to motors [12, 13, 14, 15]\n",
      "WARNING:pypot.dynamixel.error:Timeout after sending DxlSyncReadDataPacket(ids=(11, 12, 13, 14, 15, 21, 22, 23, 24, 25), address=36, length=6) to motors [12, 13, 14, 15]\n",
      "WARNING:pypot.dynamixel.error:Timeout after sending DxlSyncReadDataPacket(ids=(11, 12, 13, 14, 15, 21, 22, 23, 24, 25), address=36, length=6) to motors [12, 13, 14, 15]\n",
      "WARNING:pypot.dynamixel.error:Timeout after sending DxlSyncReadDataPacket(ids=(11, 12, 13, 14, 15, 21, 22, 23, 24, 25), address=36, length=6) to motors [12, 13, 14, 15]\n",
      "WARNING:pypot.dynamixel.error:Timeout after sending DxlSyncReadDataPacket(ids=(11, 12, 13, 14, 15, 21, 22, 23, 24, 25), address=36, length=6) to motors [12, 13, 14, 15]\n",
      "WARNING:pypot.dynamixel.error:Timeout after sending DxlSyncReadDataPacket(ids=(11, 12, 13, 14, 15, 21, 22, 23, 24, 25), address=36, length=6) to motors [12, 13, 14, 15]\n",
      "WARNING:pypot.dynamixel.error:Timeout after sending DxlSyncReadDataPacket(ids=(11, 12, 13, 14, 15, 21, 22, 23, 24, 25), address=36, length=6) to motors [12, 13, 14, 15]\n",
      "WARNING:pypot.dynamixel.error:Timeout after sending DxlSyncReadDataPacket(ids=(11, 12, 13, 14, 15, 21, 22, 23, 24, 25), address=36, length=6) to motors [12, 13, 14, 15]\n",
      "WARNING:pypot.dynamixel.error:Timeout after sending DxlSyncReadDataPacket(ids=(11, 12, 13, 14, 15, 21, 22, 23, 24, 25), address=36, length=6) to motors [12, 13, 14, 15]\n",
      "WARNING:pypot.dynamixel.error:Timeout after sending DxlSyncReadDataPacket(ids=(11, 12, 13, 14, 15, 21, 22, 23, 24, 25), address=36, length=6) to motors [12, 13, 14, 15]\n",
      "WARNING:pypot.dynamixel.error:Timeout after sending DxlSyncReadDataPacket(ids=(11, 12, 13, 14, 15, 21, 22, 23, 24, 25), address=36, length=6) to motors [12, 13, 14, 15]\n",
      "WARNING:pypot.dynamixel.error:Timeout after sending DxlSyncReadDataPacket(ids=(11, 12, 13, 14, 15, 21, 22, 23, 24, 25), address=36, length=6) to motors [12, 13, 14, 15]\n",
      "WARNING:pypot.dynamixel.error:Timeout after sending DxlSyncReadDataPacket(ids=(11, 12, 13, 14, 15, 21, 22, 23, 24, 25), address=6, length=4) to motors [12, 13, 14, 15]\n",
      "WARNING:pypot.dynamixel.error:Timeout after sending DxlSyncReadDataPacket(ids=(11, 12, 13, 14, 15, 21, 22, 23, 24, 25), address=36, length=6) to motors [12, 13, 14, 15]\n",
      "WARNING:pypot.dynamixel.error:Timeout after sending DxlSyncReadDataPacket(ids=(11, 12, 13, 14, 15, 21, 22, 23, 24, 25), address=43, length=1) to motors [12, 13, 14, 15]\n",
      "WARNING:pypot.dynamixel.error:Timeout after sending DxlSyncReadDataPacket(ids=(11, 12, 13, 14, 15, 21, 22, 23, 24, 25), address=42, length=1) to motors [12, 13, 14, 15]\n",
      "WARNING:pypot.dynamixel.error:Timeout after sending DxlSyncReadDataPacket(ids=(11, 12, 13, 14, 15, 21, 22, 23, 24, 25), address=36, length=6) to motors [12, 13, 14, 15]\n",
      "WARNING:pypot.dynamixel.error:Timeout after sending DxlSyncReadDataPacket(ids=(11, 12, 13, 14, 15, 21, 22, 23, 24, 25), address=36, length=6) to motors [12, 13, 14, 15]\n",
      "WARNING:pypot.dynamixel.error:Timeout after sending DxlSyncReadDataPacket(ids=(11, 12, 13, 14, 15, 21, 22, 23, 24, 25), address=36, length=6) to motors [12, 13, 14, 15]\n",
      "WARNING:pypot.dynamixel.error:Timeout after sending DxlSyncReadDataPacket(ids=(11, 12, 13, 14, 15, 21, 22, 23, 24, 25), address=36, length=6) to motors [12]\n",
      "WARNING:pypot.dynamixel.error:Timeout after sending DxlSyncReadDataPacket(ids=(11, 12, 13, 14, 15, 21, 22, 23, 24, 25), address=36, length=6) to motors [12, 13, 14, 15]\n",
      "WARNING:pypot.dynamixel.error:Timeout after sending DxlSyncReadDataPacket(ids=(11, 12, 13, 14, 15, 21, 22, 23, 24, 25), address=36, length=6) to motors [12, 13, 14, 15]\n",
      "WARNING:pypot.dynamixel.error:Timeout after sending DxlSyncReadDataPacket(ids=(11, 12, 13, 14, 15, 21, 22, 23, 24, 25), address=36, length=6) to motors [12, 13, 14, 15]\n",
      "WARNING:pypot.dynamixel.error:Timeout after sending DxlSyncReadDataPacket(ids=(11, 12, 13, 14, 15, 21, 22, 23, 24, 25), address=36, length=6) to motors [12, 13, 14, 15]\n",
      "WARNING:pypot.dynamixel.error:Timeout after sending DxlSyncReadDataPacket(ids=(11, 12, 13, 14, 15, 21, 22, 23, 24, 25), address=36, length=6) to motors [12, 13, 14, 15]\n",
      "WARNING:pypot.dynamixel.error:Timeout after sending DxlSyncReadDataPacket(ids=(11, 12, 13, 14, 15, 21, 22, 23, 24, 25), address=36, length=6) to motors [12, 13, 14, 15]\n",
      "WARNING:pypot.dynamixel.error:Timeout after sending DxlSyncReadDataPacket(ids=(11, 12, 13, 14, 15, 21, 22, 23, 24, 25), address=36, length=6) to motors [12, 13, 14, 15]\n",
      "WARNING:pypot.dynamixel.error:Timeout after sending DxlSyncReadDataPacket(ids=(11, 12, 13, 14, 15, 21, 22, 23, 24, 25), address=36, length=6) to motors [12, 13, 14, 15]\n",
      "WARNING:pypot.dynamixel.error:Timeout after sending DxlSyncReadDataPacket(ids=(11, 12, 13, 14, 15, 21, 22, 23, 24, 25), address=36, length=6) to motors [12, 13, 14, 15]\n",
      "WARNING:pypot.dynamixel.error:Timeout after sending DxlSyncReadDataPacket(ids=(11, 12, 13, 14, 15, 21, 22, 23, 24, 25), address=36, length=6) to motors [12, 13, 14, 15]\n",
      "WARNING:pypot.dynamixel.error:Timeout after sending DxlSyncReadDataPacket(ids=(11, 12, 13, 14, 15, 21, 22, 23, 24, 25), address=36, length=6) to motors [12, 13, 14, 15]\n",
      "WARNING:pypot.dynamixel.error:Timeout after sending DxlSyncReadDataPacket(ids=(11, 12, 13, 14, 15, 21, 22, 23, 24, 25), address=36, length=6) to motors [12, 13, 14, 15]\n",
      "WARNING:pypot.dynamixel.error:Timeout after sending DxlSyncReadDataPacket(ids=(11, 12, 13, 14, 15, 21, 22, 23, 24, 25), address=36, length=6) to motors [12, 13, 14, 15]\n",
      "WARNING:pypot.dynamixel.error:Timeout after sending DxlSyncReadDataPacket(ids=(11, 12, 13, 14, 15, 21, 22, 23, 24, 25), address=6, length=4) to motors [12, 13, 14, 15]\n",
      "WARNING:pypot.dynamixel.error:Timeout after sending DxlSyncReadDataPacket(ids=(11, 12, 13, 14, 15, 21, 22, 23, 24, 25), address=42, length=1) to motors [12, 13, 14, 15]\n",
      "WARNING:pypot.dynamixel.error:Timeout after sending DxlSyncReadDataPacket(ids=(11, 12, 13, 14, 15, 21, 22, 23, 24, 25), address=43, length=1) to motors [12, 13, 14, 15]\n",
      "WARNING:pypot.dynamixel.error:Timeout after sending DxlSyncReadDataPacket(ids=(11, 12, 13, 14, 15, 21, 22, 23, 24, 25), address=36, length=6) to motors [12, 13, 14, 15]\n",
      "WARNING:pypot.dynamixel.error:Timeout after sending DxlSyncReadDataPacket(ids=(11, 12, 13, 14, 15, 21, 22, 23, 24, 25), address=36, length=6) to motors [12, 13, 14, 15]\n",
      "WARNING:pypot.dynamixel.error:Timeout after sending DxlSyncReadDataPacket(ids=(11, 12, 13, 14, 15, 21, 22, 23, 24, 25), address=36, length=6) to motors [12, 13, 14, 15]\n",
      "WARNING:pypot.dynamixel.error:Timeout after sending DxlSyncReadDataPacket(ids=(11, 12, 13, 14, 15, 21, 22, 23, 24, 25), address=36, length=6) to motors [12, 14]\n",
      "WARNING:pypot.dynamixel.error:Timeout after sending DxlSyncReadDataPacket(ids=(11, 12, 13, 14, 15, 21, 22, 23, 24, 25), address=36, length=6) to motors [11]\n",
      "WARNING:pypot.dynamixel.error:Timeout after sending DxlSyncReadDataPacket(ids=(11, 12, 13, 14, 15, 21, 22, 23, 24, 25), address=36, length=6) to motors [11, 12, 13, 14, 15, 22, 23, 25]\n",
      "WARNING:pypot.dynamixel.error:Timeout after sending DxlSyncReadDataPacket(ids=(11, 12, 13, 14, 15, 21, 22, 23, 24, 25), address=36, length=6) to motors [12, 13, 14, 15]\n",
      "WARNING:pypot.dynamixel.error:Timeout after sending DxlSyncReadDataPacket(ids=(11, 12, 13, 14, 15, 21, 22, 23, 24, 25), address=36, length=6) to motors [12, 13, 14, 15]\n",
      "WARNING:pypot.dynamixel.error:Timeout after sending DxlSyncReadDataPacket(ids=(11, 12, 13, 14, 15, 21, 22, 23, 24, 25), address=36, length=6) to motors [12, 13, 14, 15]\n",
      "WARNING:pypot.dynamixel.error:Timeout after sending DxlSyncReadDataPacket(ids=(11, 12, 13, 14, 15, 21, 22, 23, 24, 25), address=36, length=6) to motors [12, 13, 14, 15]\n",
      "WARNING:pypot.dynamixel.error:Timeout after sending DxlSyncReadDataPacket(ids=(11, 12, 13, 14, 15, 21, 22, 23, 24, 25), address=36, length=6) to motors [12, 13, 14, 15]\n",
      "WARNING:pypot.dynamixel.error:Timeout after sending DxlSyncReadDataPacket(ids=(11, 12, 13, 14, 15, 21, 22, 23, 24, 25), address=36, length=6) to motors [12, 13, 14, 15]\n",
      "WARNING:pypot.dynamixel.error:Timeout after sending DxlSyncReadDataPacket(ids=(11, 12, 13, 14, 15, 21, 22, 23, 24, 25), address=36, length=6) to motors [12, 13, 14, 15]\n"
     ]
    }
   ],
   "source": [
    "import time\n",
    "\n",
    "#put torque in the motors\n",
    "poppy.compliant = False\n",
    "\n",
    "    \n",
    "time.sleep(2)\n",
    "\n",
    "#change the Walker to walk on all 4 instead of bipedic walk\n",
    "import Walker4 as Walker\n",
    "\n",
    "walker = Walker.Walker(poppy)\n",
    "\n",
    "if walker.init(): \n",
    "    walker.startWalk()#initialize\n",
    "\n",
    "    for i in range(0,6):\n",
    "        walker.oneStep() \n",
    "\n",
    "    walker.stopWalk() "
   ]
  },
  {
   "cell_type": "markdown",
   "metadata": {},
   "source": [
    "Just in case, release robot's motors:"
   ]
  },
  {
   "cell_type": "code",
   "execution_count": 1,
   "metadata": {
    "collapsed": false
   },
   "outputs": [
    {
     "ename": "NameError",
     "evalue": "name 'poppy' is not defined",
     "output_type": "error",
     "traceback": [
      "\u001b[1;31m---------------------------------------------------------------------------\u001b[0m",
      "\u001b[1;31mNameError\u001b[0m                                 Traceback (most recent call last)",
      "\u001b[1;32m<ipython-input-1-41c336e5114a>\u001b[0m in \u001b[0;36m<module>\u001b[1;34m()\u001b[0m\n\u001b[1;32m----> 1\u001b[1;33m \u001b[0mpoppy\u001b[0m\u001b[1;33m.\u001b[0m\u001b[0mcompliant\u001b[0m \u001b[1;33m=\u001b[0m \u001b[0mTrue\u001b[0m\u001b[1;33m\u001b[0m\u001b[0m\n\u001b[0m",
      "\u001b[1;31mNameError\u001b[0m: name 'poppy' is not defined"
     ]
    }
   ],
   "source": [
    "poppy.compliant = True"
   ]
  },
  {
   "cell_type": "code",
   "execution_count": null,
   "metadata": {
    "collapsed": true
   },
   "outputs": [],
   "source": []
  }
 ],
 "metadata": {
  "kernelspec": {
   "display_name": "Python 2",
   "language": "python",
   "name": "python2"
  },
  "language_info": {
   "codemirror_mode": {
    "name": "ipython",
    "version": 2
   },
   "file_extension": ".py",
   "mimetype": "text/x-python",
   "name": "python",
   "nbconvert_exporter": "python",
   "pygments_lexer": "ipython2",
   "version": "2.7.9"
  }
 },
 "nbformat": 4,
 "nbformat_minor": 0
}
