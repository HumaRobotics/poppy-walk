{
 "cells": [
  {
   "cell_type": "markdown",
   "metadata": {},
   "source": [
    "#    Poppy-walk\n",
    "##  Take the hands of Poppy and it will follow you anywhere!\n",
    "\n",
    "###Poppy wait for its arms to be lifted, then generates walk moves from sinusoidal signals.\n",
    "###The hips and the torso are used to shift the weight and ease the movement.\n",
    "###Lower the arms to stop the walk."
   ]
  },
  {
   "cell_type": "markdown",
   "metadata": {},
   "source": [
    "First create a PoppyHumanoid object"
   ]
  },
  {
   "cell_type": "code",
   "execution_count": 2,
   "metadata": {
    "collapsed": false
   },
   "outputs": [],
   "source": [
    "from poppy_humanoid import PoppyHumanoid\n",
    "try:\n",
    "    poppy = PoppyHumanoid()\n",
    "except Exception,e:\n",
    "    print \"could not create poppy object\"\n",
    "    print e"
   ]
  },
  {
   "cell_type": "code",
   "execution_count": 8,
   "metadata": {
    "collapsed": false
   },
   "outputs": [
    {
     "name": "stdout",
     "output_type": "stream",
     "text": [
      "%%% lift robot's arms to start walk %%%\n",
      "%%% lift robot's arms to start walk %%%\n",
      "%%% starting walk %%%\n",
      "%%% put robot's arms down to stop walk %%%\n",
      "### starting double support right ###\n",
      "time  0.000192165374756\n",
      "### starting step left ###\n",
      "time  0.554243087769\n",
      "### starting double support left ###\n",
      "time  2.38035202026\n",
      "### starting step right ###\n",
      "time  2.88315606117\n",
      "### starting double support right ###\n",
      "time  4.3892390728\n",
      "### starting step left ###\n",
      "time  4.89480614662\n",
      "asked to stop walk\n",
      "### stopping walk ###\n",
      "%%% Warning, I will remove compliance! %%%\n"
     ]
    }
   ],
   "source": [
    "poppy.compliant = False\n",
    "poppy.stand_position.start() #put the robot in standing position\n",
    "\n",
    "import Walker\n",
    "\n",
    "walker = Walker.Walker(poppy)\n",
    "\n",
    "if walker.init(): #wait for arms to be lifted\n",
    "    walker.startWalk()#initialize\n",
    "\n",
    "    #~ for i in range(0,6):\n",
    "    while not walker.mustStopWalk(): #have arms been lowered ?\n",
    "        walker.oneStep() #one step + one double support\n",
    "\n",
    "    walker.stopWalk() #go back to stand position\n"
   ]
  },
  {
   "cell_type": "markdown",
   "metadata": {},
   "source": [
    "Just in case, release robot's motors:"
   ]
  },
  {
   "cell_type": "code",
   "execution_count": 5,
   "metadata": {
    "collapsed": false
   },
   "outputs": [],
   "source": [
    "poppy.compliant = True"
   ]
  },
  {
   "cell_type": "code",
   "execution_count": null,
   "metadata": {
    "collapsed": true
   },
   "outputs": [],
   "source": []
  }
 ],
 "metadata": {
  "kernelspec": {
   "display_name": "Python 2",
   "language": "python",
   "name": "python2"
  },
  "language_info": {
   "codemirror_mode": {
    "name": "ipython",
    "version": 2
   },
   "file_extension": ".py",
   "mimetype": "text/x-python",
   "name": "python",
   "nbconvert_exporter": "python",
   "pygments_lexer": "ipython2",
   "version": "2.7.9"
  }
 },
 "nbformat": 4,
 "nbformat_minor": 0
}
