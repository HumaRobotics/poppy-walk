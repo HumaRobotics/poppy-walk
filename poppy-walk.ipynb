{
 "cells": [
  {
   "cell_type": "markdown",
   "metadata": {},
   "source": [
    "#    Poppy-walk\n",
    "##  Take the hands of Poppy and it will follow you anywhere!\n",
    "\n",
    "###Poppy wait for its arms to be lifted, then generates walk moves from sinusoidal signals.\n",
    "###The hips and the torso are used to shift the weight and ease the movement.\n",
    "###Lower the arms to stop the walk."
   ]
  },
  {
   "cell_type": "markdown",
   "metadata": {},
   "source": [
    "First create a PoppyHumanoid object"
   ]
  },
  {
   "cell_type": "code",
   "execution_count": 1,
   "metadata": {
    "collapsed": false
   },
   "outputs": [],
   "source": [
    "from poppy_humanoid import PoppyHumanoid\n",
    "try:\n",
    "    poppy = PoppyHumanoid()\n",
    "except Exception,e:\n",
    "    print \"could not create poppy object\"\n",
    "    print e"
   ]
  },
  {
   "cell_type": "code",
   "execution_count": 5,
   "metadata": {
    "collapsed": false
   },
   "outputs": [
    {
     "name": "stdout",
     "output_type": "stream",
     "text": [
      "%%% lift robot's arms to start walk %%%\n",
      "%%% starting walk %%%\n",
      "%%% put robot's arms down to stop walk %%%\n",
      "### starting double support right ###\n",
      "time  0.000212907791138\n",
      "### starting step left ###\n",
      "time  0.553006887436\n",
      "### starting double support left ###\n",
      "time  2.0592918396\n",
      "### starting step right ###\n",
      "time  2.56550097466\n",
      "### starting double support right ###\n",
      "time  4.08060979843\n",
      "### starting step left ###\n",
      "time  4.58311080933\n",
      "### starting double support left ###\n",
      "time  6.09275698662\n",
      "### starting step right ###\n",
      "time  6.59700989723\n",
      "### starting double support right ###\n",
      "time  8.10808777809\n",
      "### starting step left ###\n",
      "time  8.61354184151\n",
      "### starting double support left ###\n",
      "time  10.1239609718\n",
      "### starting step right ###\n",
      "time  10.6274859905\n",
      "### starting double support right ###\n",
      "time  12.1397988796\n",
      "### starting step left ###\n",
      "time  12.6506547928\n",
      "### starting double support left ###\n",
      "time  14.1601347923\n",
      "### starting step right ###\n",
      "time  14.6626219749\n",
      "### starting double support right ###\n",
      "time  16.1697750092\n",
      "### starting step left ###\n",
      "time  16.6725189686\n",
      "### starting double support left ###\n",
      "time  18.1798429489\n",
      "### starting step right ###\n",
      "time  18.6832919121\n",
      "### starting double support right ###\n",
      "time  20.1914949417\n",
      "### starting step left ###\n",
      "time  20.698348999\n",
      "### starting double support left ###\n",
      "time  22.2024128437\n",
      "### starting step right ###\n",
      "time  22.7046020031\n",
      "### starting double support right ###\n",
      "time  24.2154638767\n",
      "### starting step left ###\n",
      "time  24.7197978497\n",
      "### starting double support left ###\n",
      "time  26.2284078598\n",
      "### starting step right ###\n",
      "time  26.7303497791\n",
      "### starting double support right ###\n",
      "time  28.2394928932\n",
      "### starting step left ###\n",
      "time  28.7443828583\n",
      "### starting double support left ###\n",
      "time  30.2523260117\n",
      "### starting step right ###\n",
      "time  30.7547957897\n",
      "asked to stop walk\n",
      "### stopping walk ###\n",
      "%%% Warning, I will remove compliance! %%%\n"
     ]
    },
    {
     "name": "stderr",
     "output_type": "stream",
     "text": [
      "WARNING:pypot.dynamixel.error:Communication error after sending DxlSyncReadDataPacket(ids=(11, 12, 13, 14, 15, 21, 22, 23, 24, 25), address=36, length=6)\n",
      "WARNING:pypot.dynamixel.error:Timeout after sending DxlSyncReadDataPacket(ids=(11, 12, 13, 14, 15, 21, 22, 23, 24, 25), address=36, length=6) to motors [12, 13, 14, 15]\n",
      "WARNING:pypot.dynamixel.error:Timeout after sending DxlSyncReadDataPacket(ids=(11, 12, 13, 14, 15, 21, 22, 23, 24, 25), address=36, length=6) to motors [12, 13, 14, 15]\n",
      "WARNING:pypot.dynamixel.error:Timeout after sending DxlSyncReadDataPacket(ids=(11, 12, 13, 14, 15, 21, 22, 23, 24, 25), address=36, length=6) to motors [12, 13, 14, 15]\n"
     ]
    }
   ],
   "source": [
    "import time\n",
    "\n",
    "#put torque in the motors\n",
    "poppy.compliant = False\n",
    "\n",
    "#put the robot in standing position\n",
    "for m in poppy.motors:\n",
    "    m.goto_position(0., 2., wait=False)\n",
    "    \n",
    "time.sleep(2)\n",
    "\n",
    "import Walker\n",
    "\n",
    "walker = Walker.Walker(poppy)\n",
    "\n",
    "if walker.init(): #wait for arms to be lifted\n",
    "    walker.startWalk()#initialize\n",
    "\n",
    "    #~ for i in range(0,6):\n",
    "    while not walker.mustStopWalk(): #have arms been lowered ?\n",
    "        walker.oneStep() #one step + one double support\n",
    "\n",
    "    walker.stopWalk() #go back to stand position\n"
   ]
  },
  {
   "cell_type": "markdown",
   "metadata": {},
   "source": [
    "Just in case, release robot's motors:"
   ]
  },
  {
   "cell_type": "code",
   "execution_count": 3,
   "metadata": {
    "collapsed": false
   },
   "outputs": [],
   "source": [
    "poppy.compliant = True"
   ]
  },
  {
   "cell_type": "code",
   "execution_count": null,
   "metadata": {
    "collapsed": true
   },
   "outputs": [],
   "source": []
  }
 ],
 "metadata": {
  "kernelspec": {
   "display_name": "Python 2",
   "language": "python",
   "name": "python2"
  },
  "language_info": {
   "codemirror_mode": {
    "name": "ipython",
    "version": 2
   },
   "file_extension": ".py",
   "mimetype": "text/x-python",
   "name": "python",
   "nbconvert_exporter": "python",
   "pygments_lexer": "ipython2",
   "version": "2.7.9"
  }
 },
 "nbformat": 4,
 "nbformat_minor": 0
}
